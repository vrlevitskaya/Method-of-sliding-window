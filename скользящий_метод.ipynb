{
  "nbformat": 4,
  "nbformat_minor": 0,
  "metadata": {
    "colab": {
      "provenance": []
    },
    "kernelspec": {
      "name": "python3",
      "display_name": "Python 3"
    },
    "language_info": {
      "name": "python"
    }
  },
  "cells": [
    {
      "cell_type": "code",
      "execution_count": 1,
      "metadata": {
        "id": "EhYJPepMIHC3"
      },
      "outputs": [],
      "source": [
        "import numpy as np\n",
        "import pandas as pd\n",
        "import matplotlib.pyplot as plt\n",
        "\n",
        "from sklearn import metrics\n",
        "from sklearn.linear_model import LinearRegression, Lasso, Ridge"
      ]
    },
    {
      "cell_type": "code",
      "source": [
        "from google.colab import drive\n",
        "drive.mount('/content/gdrive/')\n"
      ],
      "metadata": {
        "colab": {
          "base_uri": "https://localhost:8080/"
        },
        "id": "TmIiNglf8Ypo",
        "outputId": "895e3043-82e7-49af-96a8-014e29163712"
      },
      "execution_count": 2,
      "outputs": [
        {
          "output_type": "stream",
          "name": "stdout",
          "text": [
            "Mounted at /content/gdrive/\n"
          ]
        }
      ]
    },
    {
      "cell_type": "code",
      "source": [
        "data = pd.read_csv(r\"/content/gdrive/My Drive/time_series_covid19_confirmed_global.csv\", header = 0, sep=',')"
      ],
      "metadata": {
        "id": "SpSPXjbm8Jxx"
      },
      "execution_count": 3,
      "outputs": []
    },
    {
      "cell_type": "code",
      "source": [
        "italy = data[data.columns[200:]].iloc[np.where(data['Country/Region'] == 'Italy')[0][0]] #without zero data\n",
        "\n",
        "italy_without_last = italy[:-1] #delete the last value\n",
        "\n",
        "\n"
      ],
      "metadata": {
        "id": "OK9e-BFn8p4c"
      },
      "execution_count": 4,
      "outputs": []
    },
    {
      "cell_type": "code",
      "source": [
        "v = np.lib.stride_tricks.sliding_window_view(italy_without_last, 6)\n",
        "v"
      ],
      "metadata": {
        "colab": {
          "base_uri": "https://localhost:8080/"
        },
        "id": "IjWqwPT983NQ",
        "outputId": "d62daec7-8d15-410f-d6bd-d6622a65e149"
      },
      "execution_count": 5,
      "outputs": [
        {
          "output_type": "execute_result",
          "data": {
            "text/plain": [
              "array([[  248803,   249204,   249756,   250103,   250566,   250825],\n",
              "       [  249204,   249756,   250103,   250566,   250825,   251237],\n",
              "       [  249756,   250103,   250566,   250825,   251237,   251713],\n",
              "       ...,\n",
              "       [23823192, 23823192, 23823192, 23823192, 23823192, 23823192],\n",
              "       [23823192, 23823192, 23823192, 23823192, 23823192, 24031538],\n",
              "       [23823192, 23823192, 23823192, 23823192, 24031538, 24031538]])"
            ]
          },
          "metadata": {},
          "execution_count": 5
        }
      ]
    },
    {
      "cell_type": "code",
      "source": [
        "X_italy = v[:, :5]\n",
        "y_italy = v[:, 5:6].reshape(-1)\n",
        "\n",
        "X_train = X_italy[:660]\n",
        "X_test = X_italy[661:]\n",
        "\n",
        "y_train = y_italy[:660]\n",
        "y_test = y_italy[661:]\n"
      ],
      "metadata": {
        "id": "Qp-Gaz6n89GN"
      },
      "execution_count": 10,
      "outputs": []
    },
    {
      "cell_type": "code",
      "source": [
        "def calc_metrics(true, pred):\n",
        "    stats = {\n",
        "        'RMSE': round(np.sqrt(metrics.mean_squared_error(true, pred)), 2),\n",
        "        'R2': round(metrics.r2_score(true, pred), 2),\n",
        "        'MAE': round(metrics.mean_absolute_error(true, pred), 2),\n",
        "        }\n",
        "\n",
        "    print(f\"RMSE: {stats['RMSE']}\\nR2: {stats['R2']}\\nMAE: {stats['MAE']}\")"
      ],
      "metadata": {
        "id": "V5fOut4W9XK_"
      },
      "execution_count": 12,
      "outputs": []
    },
    {
      "cell_type": "code",
      "source": [
        "canada = data[data.columns[200:]].iloc[np.where(data['Country/Region'] == 'Canada')[0][0]] #without zero data\n",
        "\n",
        "canada_without_last = canada[:-1] #delete the last value\n",
        "\n"
      ],
      "metadata": {
        "id": "jFzvS779ruWr"
      },
      "execution_count": 6,
      "outputs": []
    },
    {
      "cell_type": "code",
      "source": [
        "australia = data[data.columns[200:]].iloc[np.where(data['Country/Region'] == 'Australia')[0][0]] #without zero data\n",
        "\n",
        "canada_without_last = australia[:-1] #delete the last value\n",
        "\n"
      ],
      "metadata": {
        "id": "XWrL9pKdsSBu"
      },
      "execution_count": null,
      "outputs": []
    },
    {
      "cell_type": "code",
      "source": [
        "c = np.lib.stride_tricks.sliding_window_view(canada_without_last, 6)\n",
        "c"
      ],
      "metadata": {
        "colab": {
          "base_uri": "https://localhost:8080/"
        },
        "outputId": "950bee97-2fa9-4139-f4c9-1ea09b4436b3",
        "id": "F3CmlCk4sJKq"
      },
      "execution_count": 9,
      "outputs": [
        {
          "output_type": "execute_result",
          "data": {
            "text/plain": [
              "array([[ 11240,  11296,  11430,  11430,  11430,  11687],\n",
              "       [ 11296,  11430,  11430,  11430,  11687,  11772],\n",
              "       [ 11430,  11430,  11430,  11687,  11772,  11893],\n",
              "       ...,\n",
              "       [615359, 615359, 615359, 615359, 616682, 616682],\n",
              "       [615359, 615359, 615359, 616682, 616682, 616682],\n",
              "       [615359, 615359, 616682, 616682, 616682, 616682]])"
            ]
          },
          "metadata": {},
          "execution_count": 9
        }
      ]
    },
    {
      "cell_type": "code",
      "source": [],
      "metadata": {
        "id": "9sECVhrDsNWs"
      },
      "execution_count": null,
      "outputs": []
    }
  ]
}